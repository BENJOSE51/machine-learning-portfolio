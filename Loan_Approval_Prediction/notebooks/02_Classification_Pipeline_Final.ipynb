{
 "cells": [
  {
   "cell_type": "markdown",
   "id": "413752e9",
   "metadata": {},
   "source": [
    "\n",
    "# Loan Approval Prediction — Pipeline Notebook\n",
    "\n",
    "### Introduction\n",
    "This notebook implements a reproducible ML pipeline for loan approval prediction: preprocessing, training, evaluation,\n",
    "and serialization of model artifacts for deployment (model, scaler, encoders).\n",
    "\n",
    "**Artifacts saved:** `model.pkl`, `scaler.pkl`, `encoder.pkl` (if applicable)\n",
    "---\n"
   ]
  },
  {
   "cell_type": "markdown",
   "id": "738c20f8",
   "metadata": {},
   "source": [
    "# Loan Approval Prediction — ML Pipeline Notebook\n",
    "\n",
    "**Goal:** Build a reproducible ML pipeline (preprocessing → model → tuning → save) for the Loan Approval classification task."
   ]
  },
  {
   "cell_type": "code",
   "execution_count": 1,
   "id": "0aee8cbf",
   "metadata": {},
   "outputs": [],
   "source": [
    "# 1) Imports\n",
    "import pandas as pd\n",
    "import numpy as np\n",
    "import matplotlib.pyplot as plt\n",
    "import seaborn as sns\n",
    "import joblib\n",
    "\n",
    "from sklearn.model_selection import train_test_split, cross_val_score, GridSearchCV\n",
    "from sklearn.pipeline import Pipeline\n",
    "from sklearn.compose import ColumnTransformer\n",
    "from sklearn.impute import SimpleImputer\n",
    "from sklearn.preprocessing import OneHotEncoder, StandardScaler\n",
    "from sklearn.linear_model import LogisticRegression\n",
    "from sklearn.ensemble import RandomForestClassifier\n",
    "from sklearn.metrics import (accuracy_score, precision_score, recall_score, f1_score,\n",
    "                             roc_auc_score, confusion_matrix, classification_report)\n",
    "\n",
    "RANDOM_STATE = 42\n",
    "DATA_PATH =\"../data/train.csv\" \n",
    "sns.set(style='whitegrid')"
   ]
  },
  {
   "cell_type": "markdown",
   "id": "2df0a716",
   "metadata": {},
   "source": [
    "## Load data"
   ]
  },
  {
   "cell_type": "code",
   "execution_count": 2,
   "id": "79d6708b",
   "metadata": {},
   "outputs": [
    {
     "name": "stdout",
     "output_type": "stream",
     "text": [
      "Loaded: (614, 13)\n"
     ]
    }
   ],
   "source": [
    "# Load dataset\n",
    "df = pd.read_csv(DATA_PATH)\n",
    "# minimal target mapping and dependents fix\n",
    "df = df.copy()\n",
    "df['Loan_Status'] = df['Loan_Status'].map({'Y':1,'N':0})\n",
    "if 'Dependents' in df.columns:\n",
    "    df['Dependents'] = df['Dependents'].replace('3+', 3)\n",
    "    df['Dependents'] = pd.to_numeric(df['Dependents'], errors='coerce')\n",
    "\n",
    "print('Loaded:', df.shape)"
   ]
  },
  {
   "cell_type": "markdown",
   "id": "cecb3b25",
   "metadata": {},
   "source": [
    "## X and y and column types\n"
   ]
  },
  {
   "cell_type": "code",
   "execution_count": 3,
   "id": "857212dc",
   "metadata": {},
   "outputs": [
    {
     "name": "stdout",
     "output_type": "stream",
     "text": [
      "Numeric cols: ['Dependents', 'ApplicantIncome', 'CoapplicantIncome', 'LoanAmount', 'Loan_Amount_Term', 'Credit_History']\n",
      "Categorical cols: ['Gender', 'Married', 'Education', 'Self_Employed', 'Property_Area']\n"
     ]
    }
   ],
   "source": [
    "# Drop identifier if present\n",
    "if 'Loan_ID' in df.columns:\n",
    "    df = df.drop(columns=['Loan_ID'])\n",
    "\n",
    "y = df['Loan_Status']\n",
    "X = df.drop(columns=['Loan_Status'])\n",
    "\n",
    "# Detect columns\n",
    "numeric_cols = X.select_dtypes(include=[np.number]).columns.tolist()\n",
    "cat_cols = X.select_dtypes(include=['object','category']).columns.tolist()\n",
    "\n",
    "print('Numeric cols:', numeric_cols)\n",
    "print('Categorical cols:', cat_cols)"
   ]
  },
  {
   "cell_type": "markdown",
   "id": "62ab07a1",
   "metadata": {},
   "source": [
    "## Build preprocessing pipelines\n",
    "Numeric: median imputation + scaling (useful for linear models).  \n",
    "Categorical: mode imputation + one-hot encoding.  \n",
    "We combine them with `ColumnTransformer`."
   ]
  },
  {
   "cell_type": "code",
   "execution_count": 5,
   "id": "39fefa81",
   "metadata": {},
   "outputs": [
    {
     "name": "stdout",
     "output_type": "stream",
     "text": [
      "Preprocessor ready\n"
     ]
    }
   ],
   "source": [
    "numeric_transformer = Pipeline(steps=[\n",
    "    ('imputer', SimpleImputer(strategy='median')),\n",
    "    ('scaler', StandardScaler())\n",
    "])\n",
    "\n",
    "categorical_transformer = Pipeline(steps=[\n",
    "    ('imputer', SimpleImputer(strategy='most_frequent')),\n",
    "    ('onehot', OneHotEncoder(handle_unknown='ignore', sparse_output=False))\n",
    "])\n",
    "\n",
    "preprocessor = ColumnTransformer(transformers=[\n",
    "    ('num', numeric_transformer, numeric_cols),\n",
    "    ('cat', categorical_transformer, cat_cols)\n",
    "], remainder='drop')\n",
    "\n",
    "print('Preprocessor ready')"
   ]
  },
  {
   "cell_type": "markdown",
   "id": "ce090fa2",
   "metadata": {},
   "source": [
    "## Define pipeline with classifier placeholder\n",
    "We create a pipeline containing preprocessing and a classifier. We'll tune RandomForest via GridSearch."
   ]
  },
  {
   "cell_type": "code",
   "execution_count": 6,
   "id": "c294b4ce",
   "metadata": {},
   "outputs": [
    {
     "name": "stdout",
     "output_type": "stream",
     "text": [
      "Pipeline(steps=[('preprocessor',\n",
      "                 ColumnTransformer(transformers=[('num',\n",
      "                                                  Pipeline(steps=[('imputer',\n",
      "                                                                   SimpleImputer(strategy='median')),\n",
      "                                                                  ('scaler',\n",
      "                                                                   StandardScaler())]),\n",
      "                                                  ['Dependents',\n",
      "                                                   'ApplicantIncome',\n",
      "                                                   'CoapplicantIncome',\n",
      "                                                   'LoanAmount',\n",
      "                                                   'Loan_Amount_Term',\n",
      "                                                   'Credit_History']),\n",
      "                                                 ('cat',\n",
      "                                                  Pipeline(steps=[('imputer',\n",
      "                                                                   SimpleImputer(strategy='most_frequent')),\n",
      "                                                                  ('onehot',\n",
      "                                                                   OneHotEncoder(handle_unknown='ignore',\n",
      "                                                                                 sparse_output=False))]),\n",
      "                                                  ['Gender', 'Married',\n",
      "                                                   'Education', 'Self_Employed',\n",
      "                                                   'Property_Area'])])),\n",
      "                ('clf', RandomForestClassifier(random_state=42))])\n"
     ]
    }
   ],
   "source": [
    "pipe = Pipeline(steps=[\n",
    "    ('preprocessor', preprocessor),\n",
    "    ('clf', RandomForestClassifier(random_state=RANDOM_STATE))\n",
    "])\n",
    "\n",
    "print(pipe)"
   ]
  },
  {
   "cell_type": "markdown",
   "id": "20ae2dca",
   "metadata": {},
   "source": [
    "## Train-test split"
   ]
  },
  {
   "cell_type": "code",
   "execution_count": 7,
   "id": "5613d573",
   "metadata": {},
   "outputs": [
    {
     "name": "stdout",
     "output_type": "stream",
     "text": [
      "Train: (491, 11) Test: (123, 11)\n"
     ]
    }
   ],
   "source": [
    "X_train, X_test, y_train, y_test = train_test_split(X, y, test_size=0.2, stratify=y, random_state=RANDOM_STATE) #Use stratify to preserve class ratios\n",
    "print('Train:', X_train.shape, 'Test:', X_test.shape)"
   ]
  },
  {
   "cell_type": "markdown",
   "id": "9654b37d",
   "metadata": {},
   "source": [
    "## Quick cross-validation on training set\n",
    "This gives a baseline for how the pipeline performs before tuning."
   ]
  },
  {
   "cell_type": "code",
   "execution_count": 8,
   "id": "5132ae32",
   "metadata": {},
   "outputs": [
    {
     "name": "stdout",
     "output_type": "stream",
     "text": [
      "CV scores: [0.7475 0.8061 0.8061 0.7143 0.7653]\n",
      "CV mean: 0.7678622964337251\n"
     ]
    }
   ],
   "source": [
    "cv_scores = cross_val_score(pipe, X_train, y_train, cv=5, scoring='accuracy')\n",
    "print('CV scores:', np.round(cv_scores,4))\n",
    "print('CV mean:', cv_scores.mean())"
   ]
  },
  {
   "cell_type": "markdown",
   "id": "b8c5676f",
   "metadata": {},
   "source": [
    "## GridSearchCV (small grid)\n",
    "We tune a small set of Random Forest hyperparameters to keep compute low."
   ]
  },
  {
   "cell_type": "code",
   "execution_count": 9,
   "id": "f5bb743b",
   "metadata": {},
   "outputs": [
    {
     "name": "stdout",
     "output_type": "stream",
     "text": [
      "Fitting 3 folds for each of 12 candidates, totalling 36 fits\n",
      "Best params: {'clf__max_depth': 6, 'clf__min_samples_leaf': 1, 'clf__n_estimators': 200}\n",
      "Best CV score: 0.7942665469599482\n"
     ]
    }
   ],
   "source": [
    "param_grid = {\n",
    "    'clf__n_estimators': [100, 200],\n",
    "    'clf__max_depth': [None, 6, 12],\n",
    "    'clf__min_samples_leaf': [1, 3]\n",
    "}\n",
    "\n",
    "grid = GridSearchCV(pipe, param_grid, cv=3, scoring='accuracy', n_jobs=-1, verbose=1)\n",
    "grid.fit(X_train, y_train)\n",
    "\n",
    "print('Best params:', grid.best_params_)\n",
    "print('Best CV score:', grid.best_score_)"
   ]
  },
  {
   "cell_type": "markdown",
   "id": "ea23fe00",
   "metadata": {},
   "source": [
    "## Evaluate best model on test set\n",
    "We print common metrics and show a confusion matrix."
   ]
  },
  {
   "cell_type": "code",
   "execution_count": 10,
   "id": "edc80162",
   "metadata": {},
   "outputs": [
    {
     "name": "stdout",
     "output_type": "stream",
     "text": [
      "Test Accuracy: 0.8455284552845529\n",
      "Precision: 0.83\n",
      "Recall: 0.9764705882352941\n",
      "F1: 0.8972972972972973\n",
      "ROC-AUC: 0.8219814241486069\n",
      "\n",
      "Classification Report:\n",
      "               precision    recall  f1-score   support\n",
      "\n",
      "           0     0.9130    0.5526    0.6885        38\n",
      "           1     0.8300    0.9765    0.8973        85\n",
      "\n",
      "    accuracy                         0.8455       123\n",
      "   macro avg     0.8715    0.7646    0.7929       123\n",
      "weighted avg     0.8557    0.8455    0.8328       123\n",
      "\n"
     ]
    },
    {
     "data": {
      "image/png": "[encoded data removed]",
      "text/plain": [
       "<Figure size 400x300 with 2 Axes>"
      ]
     },
     "metadata": {},
     "output_type": "display_data"
    }
   ],
   "source": [
    "best_pipe = grid.best_estimator_\n",
    "\n",
    "y_pred = best_pipe.predict(X_test)\n",
    "y_proba = best_pipe.predict_proba(X_test)[:,1] if hasattr(best_pipe, 'predict_proba') else None\n",
    "\n",
    "print('Test Accuracy:', accuracy_score(y_test, y_pred))\n",
    "print('Precision:', precision_score(y_test, y_pred, zero_division=0))\n",
    "print('Recall:', recall_score(y_test, y_pred, zero_division=0))\n",
    "print('F1:', f1_score(y_test, y_pred, zero_division=0))\n",
    "if y_proba is not None:\n",
    "    print('ROC-AUC:', roc_auc_score(y_test, y_proba))\n",
    "\n",
    "print('\\nClassification Report:\\n', classification_report(y_test, y_pred, digits=4))\n",
    "\n",
    "cm = confusion_matrix(y_test, y_pred)\n",
    "plt.figure(figsize=(4,3))\n",
    "sns.heatmap(cm, annot=True, fmt='d', cmap='Blues')\n",
    "plt.xlabel('Predicted'); plt.ylabel('Actual'); plt.title('Confusion Matrix')\n",
    "plt.show()"
   ]
  },
  {
   "cell_type": "markdown",
   "id": "6289dc80",
   "metadata": {},
   "source": [
    "## Saving the best pipeline"
   ]
  },
  {
   "cell_type": "code",
   "execution_count": 12,
   "id": "9c16cdd0",
   "metadata": {},
   "outputs": [
    {
     "name": "stdout",
     "output_type": "stream",
     "text": [
      "Pipeline saved to loan_pipeline_v1.joblib\n"
     ]
    }
   ],
   "source": [
    "joblib.dump(best_pipe, 'loan_pipeline_v1.joblib')\n",
    "print('Pipeline saved to loan_pipeline_v1.joblib')"
   ]
  },
  {
   "cell_type": "markdown",
   "id": "5fa65d18-d302-4172-9b44-e8828f116be4",
   "metadata": {},
   "source": [
    "The final trained pipeline is saved as a .joblib file, ready for deployment or batch prediction."
   ]
  },
  {
   "cell_type": "markdown",
   "id": "f40bea6f",
   "metadata": {},
   "source": [
    "\n",
    "### Artifact: `loan_pipeline_v1.joblib`\n",
    "This notebook saves a **single** joblib file `loan_pipeline_v1.joblib` that contains the full preprocessing pipeline and model (scaler/encoders + estimator).\n",
    "This is convenient for deployment: the FastAPI app will load this file and call `pipeline.predict()` directly on a DataFrame of inputs."
   ]
  },
  {
   "cell_type": "code",
   "execution_count": null,
   "id": "e3ef95dc",
   "metadata": {},
   "outputs": [],
   "source": [
    "\n",
    "# Save the full preprocessing+model pipeline as a single joblib file\n",
    "import joblib, os\n",
    "\n",
    "if os.path.exists(\"loan_pipeline_v1.joblib\"):\n",
    "    print(\"Found existing 'loan_pipeline_v1.joblib' in the working directory. Using that file for deployment.\")\n",
    "else:\n",
    "    saved = False\n",
    "    # Try common pipeline variable names in order\n",
    "    candidates = [\"loan_pipeline_v1\", \"loan_pipeline\", \"pipeline\", \"model\", \"best_model\"]\n",
    "    for name in candidates:\n",
    "        try:\n",
    "            obj = globals()[name]\n",
    "            joblib.dump(obj, \"loan_pipeline_v1.joblib\")\n",
    "            print(f\"Saved pipeline object from variable '{name}' to loan_pipeline_v1.joblib\")\n",
    "            saved = True\n",
    "            break\n",
    "        except KeyError:\n",
    "            continue\n",
    "        except Exception as e:\n",
    "            print(f\"Attempted to save variable '{name}' but got: {e}\")\n",
    "    if not saved:\n",
    "        print(\"Could not find a pipeline variable to save. If you've already saved 'loan_pipeline_v1.joblib' earlier, ensure it's in this folder. Otherwise, assign your trained pipeline object to one of these variable names and re-run this cell:\")\n",
    "        print(candidates)\n"
   ]
  },
  {
   "cell_type": "markdown",
   "id": "3262fff1",
   "metadata": {},
   "source": [
    "\n",
    "---\n",
    "### Conclusions & Deployment Notes (Pipeline)\n",
    "- The pipeline trains and evaluates the model and saves artifacts needed for deployment (model.pkl, scaler.pkl, encoder.pkl).\n",
    "- To deploy: use these artifacts with a FastAPI app and Streamlit demo.\n",
    "---\n"
   ]
  },
  {
   "cell_type": "code",
   "execution_count": null,
   "id": "7680924f-c290-4063-b5ff-984f0de26270",
   "metadata": {},
   "outputs": [],
   "source": []
  }
 ],
 "metadata": {
  "kernelspec": {
   "display_name": "Python [conda env:base] *",
   "language": "python",
   "name": "conda-base-py"
  },
  "language_info": {
   "codemirror_mode": {
    "name": "ipython",
    "version": 3
   },
   "file_extension": ".py",
   "mimetype": "text/x-python",
   "name": "python",
   "nbconvert_exporter": "python",
   "pygments_lexer": "ipython3",
   "version": "3.13.5"
  }
 },
 "nbformat": 4,
 "nbformat_minor": 5
}
