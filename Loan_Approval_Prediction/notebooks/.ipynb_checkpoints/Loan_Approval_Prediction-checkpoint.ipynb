{
  "cells": [],
  "metadata": {
    "kernelspec": {
      "name": "python3",
      "language": "python",
      "display_name": "Python 3"
    },
    "language_info": {
      "name": "python",
      "version": "3.x"
    }
  },
  "nbformat": 4,
  "nbformat_minor": 5
}